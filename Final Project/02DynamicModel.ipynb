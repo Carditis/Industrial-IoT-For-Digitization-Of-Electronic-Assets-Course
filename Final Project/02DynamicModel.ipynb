{
 "cells": [
  {
   "cell_type": "markdown",
   "metadata": {},
   "source": [
    "# Import"
   ]
  },
  {
   "cell_type": "code",
   "execution_count": 1,
   "metadata": {},
   "outputs": [],
   "source": [
    "import pandas as pd\n",
    "import plotly.graph_objects as go\n",
    "from plotly_resampler import FigureResampler, FigureWidgetResampler\n",
    "from plotly.subplots import make_subplots\n",
    "import matplotlib.pyplot as plt\n",
    "from sklearn.model_selection import train_test_split\n",
    "import numpy as np\n",
    "import os\n",
    "\n",
    "from sysidentpy.model_structure_selection import FROLS \n",
    "from sysidentpy.basis_function._basis_function import Polynomial \n",
    "from sysidentpy.metrics import root_relative_squared_error \n",
    "from sysidentpy.utils.display_results import results\n",
    "from sysidentpy.utils.plotting import plot_residues_correlation, plot_results"
   ]
  },
  {
   "cell_type": "code",
   "execution_count": 2,
   "metadata": {},
   "outputs": [
    {
     "name": "stdout",
     "output_type": "stream",
     "text": [
      "/home/smrobot/Industrial-IoT-For-Digitization-Of-Electronic-Assets-Course/Final Project/data/pump_station_data.parquet\n"
     ]
    }
   ],
   "source": [
    "dirname = os.getcwd()\n",
    "filename = dirname + \"/data/pump_station_data.parquet\"\n",
    "print(filename)"
   ]
  },
  {
   "cell_type": "markdown",
   "metadata": {},
   "source": []
  },
  {
   "cell_type": "code",
   "execution_count": null,
   "metadata": {},
   "outputs": [],
   "source": [
    "pump_station_data = pd.read_parquet(filename)\n",
    "pump_station_data.head(5)\n",
    "\n",
    "train = pump_station_data.loc[\"2023-01-27\":\"2023-01-30\"]\n",
    "test = pump_station_data.loc[\"2023-02-27\":\"2023-03-02\"] \n",
    "\n",
    "#Consider resample()\n",
    "pump_station_data = pump_station_data.resample(\"1T\").mean()\n",
    "\n",
    "pump_station_data = pump_station_data[(pump_station_data[\"pump1_rpm\"] > 0) & (pump_station_data[\"pump4_rpm\"] == 0)]\n",
    "x_train = train[\"pump1_rpm\"].values.reshape(-1,1)\n",
    "y_train = train[\"outflow\"].values.reshape(-1,1)\n",
    "x_test = test[\"pump1_rpm\"].values.reshape(-1,1)\n",
    "y_test = test[\"outflow\"].values.reshape(-1,1)"
   ]
  },
  {
   "cell_type": "code",
   "execution_count": null,
   "metadata": {},
   "outputs": [],
   "source": [
    "basis_function = Polynomial(degree=1)\n",
    "\n",
    "model = FROLS(\n",
    "    order_selection=True,\n",
    "    n_info_values=20,\n",
    "    extended_least_squares=False,\n",
    "    ylag=6,\n",
    "    xlag=6,\n",
    "    info_criteria=\"aic\",\n",
    "    estimator=\"least_squares\",\n",
    "    basis_function=basis_function,\n",
    ")\n",
    "model.fit(X=x_train, \n",
    "          y=y_train)"
   ]
  },
  {
   "cell_type": "code",
   "execution_count": null,
   "metadata": {},
   "outputs": [],
   "source": [
    "yhat = model.predict(X=x_test, \n",
    "                     y=y_test,\n",
    "                     forecast_horizon=5)"
   ]
  },
  {
   "cell_type": "code",
   "execution_count": null,
   "metadata": {},
   "outputs": [],
   "source": [
    "residuals = y_test - yhat\n",
    "\n",
    "# Plotting the histogram of residuals\n",
    "plt.hist(residuals, bins=100, edgecolor='black')\n",
    "plt.xlabel('Residuals')\n",
    "plt.ylabel('Frequency')\n",
    "plt.title('Histogram of Residuals')\n",
    "#plt.xlim(-50,50)\n",
    "plt.show()"
   ]
  }
 ],
 "metadata": {
  "kernelspec": {
   "display_name": "module3_env",
   "language": "python",
   "name": "python3"
  },
  "language_info": {
   "codemirror_mode": {
    "name": "ipython",
    "version": 3
   },
   "file_extension": ".py",
   "mimetype": "text/x-python",
   "name": "python",
   "nbconvert_exporter": "python",
   "pygments_lexer": "ipython3",
   "version": "3.11.7"
  }
 },
 "nbformat": 4,
 "nbformat_minor": 2
}
