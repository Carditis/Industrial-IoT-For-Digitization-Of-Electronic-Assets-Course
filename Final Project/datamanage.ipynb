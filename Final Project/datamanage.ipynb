{
 "cells": [
  {
   "cell_type": "code",
   "execution_count": 6,
   "metadata": {},
   "outputs": [
    {
     "name": "stdout",
     "output_type": "stream",
     "text": [
      "Requirement already satisfied: sysidentpy in /home/smrobot/miniconda3/envs/module3_env/lib/python3.11/site-packages (0.3.3)\n",
      "Requirement already satisfied: numpy<=1.26,>=1.19.2 in /home/smrobot/miniconda3/envs/module3_env/lib/python3.11/site-packages (from sysidentpy) (1.26.0)\n",
      "Requirement already satisfied: scipy>=1.7.0 in /home/smrobot/miniconda3/envs/module3_env/lib/python3.11/site-packages (from sysidentpy) (1.11.4)\n",
      "Requirement already satisfied: matplotlib>=3.3.2 in /home/smrobot/miniconda3/envs/module3_env/lib/python3.11/site-packages (from sysidentpy) (3.8.2)\n",
      "Requirement already satisfied: contourpy>=1.0.1 in /home/smrobot/miniconda3/envs/module3_env/lib/python3.11/site-packages (from matplotlib>=3.3.2->sysidentpy) (1.2.0)\n",
      "Requirement already satisfied: cycler>=0.10 in /home/smrobot/miniconda3/envs/module3_env/lib/python3.11/site-packages (from matplotlib>=3.3.2->sysidentpy) (0.12.1)\n",
      "Requirement already satisfied: fonttools>=4.22.0 in /home/smrobot/miniconda3/envs/module3_env/lib/python3.11/site-packages (from matplotlib>=3.3.2->sysidentpy) (4.47.0)\n",
      "Requirement already satisfied: kiwisolver>=1.3.1 in /home/smrobot/miniconda3/envs/module3_env/lib/python3.11/site-packages (from matplotlib>=3.3.2->sysidentpy) (1.4.5)\n",
      "Requirement already satisfied: packaging>=20.0 in /home/smrobot/miniconda3/envs/module3_env/lib/python3.11/site-packages (from matplotlib>=3.3.2->sysidentpy) (23.2)\n",
      "Requirement already satisfied: pillow>=8 in /home/smrobot/miniconda3/envs/module3_env/lib/python3.11/site-packages (from matplotlib>=3.3.2->sysidentpy) (10.2.0)\n",
      "Requirement already satisfied: pyparsing>=2.3.1 in /home/smrobot/miniconda3/envs/module3_env/lib/python3.11/site-packages (from matplotlib>=3.3.2->sysidentpy) (3.1.1)\n",
      "Requirement already satisfied: python-dateutil>=2.7 in /home/smrobot/miniconda3/envs/module3_env/lib/python3.11/site-packages (from matplotlib>=3.3.2->sysidentpy) (2.8.2)\n",
      "Requirement already satisfied: six>=1.5 in /home/smrobot/miniconda3/envs/module3_env/lib/python3.11/site-packages (from python-dateutil>=2.7->matplotlib>=3.3.2->sysidentpy) (1.16.0)\n"
     ]
    }
   ],
   "source": [
    "!pip install sysidentpy"
   ]
  },
  {
   "cell_type": "code",
   "execution_count": 7,
   "metadata": {},
   "outputs": [],
   "source": [
    "import pandas as pd\n",
    "\n",
    "df = pd.read_parquet(\"/home/smrobot/Industrial-IoT-For-Digitization-Of-Electronic-Assets-Course/Final Project/data/pump_station_data.parquet\")\n",
    "\n"
   ]
  },
  {
   "cell_type": "code",
   "execution_count": 3,
   "metadata": {},
   "outputs": [
    {
     "name": "stdout",
     "output_type": "stream",
     "text": [
      "                                  height  outflow  pump1_rpm  pump1_power  \\\n",
      "time                                                                        \n",
      "2023-01-16 00:00:00.970000+00:00   167.0    533.0     1260.0        57.54   \n",
      "2023-01-16 00:00:01.969000+00:00   167.0    534.0     1260.0        55.40   \n",
      "2023-01-16 00:00:02.969000+00:00   167.0    527.0     1260.0        58.09   \n",
      "2023-01-16 00:00:03.969000+00:00   167.0    521.0     1260.0        58.71   \n",
      "2023-01-16 00:00:04.969000+00:00   167.0    521.0     1260.0        54.62   \n",
      "...                                  ...      ...        ...          ...   \n",
      "2023-03-01 23:59:55.342000+00:00   155.0    278.0        0.0         0.00   \n",
      "2023-03-01 23:59:56.342000+00:00   155.0    278.0        0.0         0.00   \n",
      "2023-03-01 23:59:57.343000+00:00   155.0    286.0        0.0         0.00   \n",
      "2023-03-01 23:59:58.343000+00:00   155.0    292.0        0.0         0.00   \n",
      "2023-03-01 23:59:59.342000+00:00   155.0    296.0        0.0         0.00   \n",
      "\n",
      "                                  pump4_rpm  pump4_power  \n",
      "time                                                      \n",
      "2023-01-16 00:00:00.970000+00:00        0.0         0.00  \n",
      "2023-01-16 00:00:01.969000+00:00        0.0         0.00  \n",
      "2023-01-16 00:00:02.969000+00:00        0.0         0.00  \n",
      "2023-01-16 00:00:03.969000+00:00        0.0         0.00  \n",
      "2023-01-16 00:00:04.969000+00:00        0.0         0.00  \n",
      "...                                     ...          ...  \n",
      "2023-03-01 23:59:55.342000+00:00      900.0        38.07  \n",
      "2023-03-01 23:59:56.342000+00:00      900.0        36.95  \n",
      "2023-03-01 23:59:57.343000+00:00      900.0        37.18  \n",
      "2023-03-01 23:59:58.343000+00:00      900.0        37.77  \n",
      "2023-03-01 23:59:59.342000+00:00      900.0        38.09  \n",
      "\n",
      "[3883689 rows x 6 columns]\n"
     ]
    }
   ],
   "source": [
    "print(df)\n",
    "\n"
   ]
  },
  {
   "cell_type": "code",
   "execution_count": 5,
   "metadata": {},
   "outputs": [
    {
     "data": {
      "text/plain": [
       "pandas.core.frame.DataFrame"
      ]
     },
     "execution_count": 5,
     "metadata": {},
     "output_type": "execute_result"
    }
   ],
   "source": [
    "type(df)"
   ]
  },
  {
   "cell_type": "code",
   "execution_count": null,
   "metadata": {},
   "outputs": [],
   "source": []
  }
 ],
 "metadata": {
  "kernelspec": {
   "display_name": "Python 3",
   "language": "python",
   "name": "python3"
  },
  "language_info": {
   "codemirror_mode": {
    "name": "ipython",
    "version": 3
   },
   "file_extension": ".py",
   "mimetype": "text/x-python",
   "name": "python",
   "nbconvert_exporter": "python",
   "pygments_lexer": "ipython3",
   "version": "3.11.7"
  }
 },
 "nbformat": 4,
 "nbformat_minor": 2
}
